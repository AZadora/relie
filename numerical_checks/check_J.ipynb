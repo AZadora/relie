{
 "cells": [
  {
   "cell_type": "code",
   "execution_count": null,
   "metadata": {
    "collapsed": true
   },
   "outputs": [],
   "source": [
    "import sys\n",
    "sys.path.append(\"..\")\n",
    "import numpy as np \n",
    "import torch\n",
    "from relie.utils.so3_tools import so3_hat, so3_vee, so3_exp, so3_log\n",
    "from relie.utils.se3_tools import se3_hat, se3_vee, se3_exp, se3_log, se3_inv"
   ]
  },
  {
   "cell_type": "code",
   "execution_count": null,
   "metadata": {
    "collapsed": true
   },
   "outputs": [],
   "source": [
    "def det_jac_so3(x):\n",
    "    theta = x.norm(2,-1)\n",
    "    return 2*(1 - torch.cos(theta))/(theta**2)\n",
    "\n",
    "def so3_inv(el):\n",
    "    return el.transpose(-2,-1)\n",
    "\n",
    "def relative_error(x_hat,x):\n",
    "    return (x-x_hat)/x\n",
    "    "
   ]
  },
  {
   "cell_type": "code",
   "execution_count": null,
   "metadata": {
    "collapsed": true
   },
   "outputs": [],
   "source": [
    "def compute_approx_jacobian(points, vee, exp, log, inv, eps = 0.01):\n",
    "    points = points.unsqueeze(-2)\n",
    "    dim = points.shape[-1]\n",
    "    basis = torch.eye(dim, dtype=torch.float64).unsqueeze(0)\n",
    "    group_delta = exp(basis*eps + points)\n",
    "    points_inv = inv(exp(points))\n",
    "    normal_coord = vee(log(points_inv@group_delta))\n",
    "    estimated_det_jac = np.linalg.det(normal_coord.numpy())/((eps)**dim)\n",
    "    return torch.tensor(estimated_det_jac)"
   ]
  },
  {
   "cell_type": "markdown",
   "metadata": {},
   "source": [
    "### SO(3)"
   ]
  },
  {
   "cell_type": "code",
   "execution_count": null,
   "metadata": {
    "collapsed": true
   },
   "outputs": [],
   "source": [
    "def approximate_so3_jacobian(points, eps):\n",
    "    return compute_approx_jacobian(points, so3_vee, so3_exp, so3_log, so3_inv, eps)"
   ]
  },
  {
   "cell_type": "code",
   "execution_count": null,
   "metadata": {},
   "outputs": [],
   "source": [
    "dim = 3\n",
    "eps = 1\n",
    "n_points = 10\n",
    "\n",
    "\n",
    "center = torch.tensor(np.random.uniform(-1,1,(n_points,dim)),dtype = torch.float64)\n",
    "\n",
    "l_eps = [1, 1e-1, 1e-2, 1e-3]\n",
    "for eps in l_eps:\n",
    "    estimated_det_jac = approximate_so3_jacobian(center, eps=eps)\n",
    "    err = relative_error(estimated_det_jac, det_jac_so3(center))\n",
    "    print(torch.log10(err.mean()), torch.log10(err.std()))"
   ]
  },
  {
   "cell_type": "code",
   "execution_count": null,
   "metadata": {},
   "outputs": [],
   "source": []
  },
  {
   "cell_type": "markdown",
   "metadata": {},
   "source": [
    "### SE(3)"
   ]
  },
  {
   "cell_type": "code",
   "execution_count": null,
   "metadata": {
    "collapsed": true
   },
   "outputs": [],
   "source": [
    "def approximate_se3_jacobian(points, eps = 0.01):\n",
    "    return compute_approx_jacobian(points, se3_vee, se3_exp, se3_log, se3_inv, eps)\n",
    "\n",
    "def det_jac_se3(z):\n",
    "    x, _ = z.split([3,3], -1)\n",
    "    theta = x.norm(2,-1)\n",
    "    return (2*(1 - torch.cos(theta))/(theta**2))**2"
   ]
  },
  {
   "cell_type": "code",
   "execution_count": null,
   "metadata": {},
   "outputs": [],
   "source": [
    "dim = 6\n",
    "n_points = 10\n",
    "center = torch.tensor(np.random.normal(0,1,(n_points,dim)),dtype = torch.float64)\n",
    "l_eps = [1, 1e-1, 1e-2, 1e-3]\n",
    "for eps in l_eps:\n",
    "    estimated_det_jac = approximate_se3_jacobian(center, eps=eps)  \n",
    "    err = relative_error(estimated_det_jac, det_jac_se3(center))\n",
    "    print(torch.log10(err.mean()), torch.log10(err.std()))"
   ]
  },
  {
   "cell_type": "code",
   "execution_count": null,
   "metadata": {},
   "outputs": [],
   "source": [
    "print(estimated_det_jac - det_jac_se3(center))"
   ]
  },
  {
   "cell_type": "code",
   "execution_count": null,
   "metadata": {},
   "outputs": [],
   "source": [
    "print(approximate_se3_jacobian(center, eps=0.1) - det_jac_se3(center))"
   ]
  },
  {
   "cell_type": "code",
   "execution_count": null,
   "metadata": {
    "collapsed": true
   },
   "outputs": [],
   "source": []
  }
 ],
 "metadata": {
  "kernelspec": {
   "display_name": "Python [conda env:ds]",
   "language": "python",
   "name": "conda-env-ds-py"
  },
  "language_info": {
   "codemirror_mode": {
    "name": "ipython",
    "version": 3
   },
   "file_extension": ".py",
   "mimetype": "text/x-python",
   "name": "python",
   "nbconvert_exporter": "python",
   "pygments_lexer": "ipython3",
   "version": "3.5.5"
  }
 },
 "nbformat": 4,
 "nbformat_minor": 2
}
