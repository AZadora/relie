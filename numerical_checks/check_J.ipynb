{
 "cells": [
  {
   "cell_type": "code",
   "execution_count": 176,
   "metadata": {},
   "outputs": [],
   "source": [
    "import sys\n",
    "sys.path.append(\"..\")\n",
    "import numpy as np \n",
    "import torch\n",
    "from relie.utils.so3_tools import so3_hat, so3_vee, so3_exp, so3_log"
   ]
  },
  {
   "cell_type": "code",
   "execution_count": 79,
   "metadata": {
    "collapsed": true
   },
   "outputs": [],
   "source": [
    "def det_jac_so3(x):\n",
    "    theta = x.norm(2,-1)\n",
    "    return 2*(1 - torch.cos(theta))/(theta**2)\n",
    "\n",
    "def so3_inv(el):\n",
    "    return el.transpose(-2,-1)\n",
    "    "
   ]
  },
  {
   "cell_type": "code",
   "execution_count": 158,
   "metadata": {
    "collapsed": true
   },
   "outputs": [],
   "source": [
    "dim = 3\n",
    "eps = 0.005\n",
    "\n",
    "\n",
    "\n",
    "def compute_approx_jacobian(points, vee, exp, log, inv, eps = 0.01):\n",
    "    points = points.unsqueeze(-2)\n",
    "    dim = points.shape[-1]\n",
    "    basis = torch.eye(dim).unsqueeze(0)\n",
    "    group_delta = exp(basis*eps + points)\n",
    "    points_inv = inv(exp(points))\n",
    "    normal_coord = vee(log(points_inv@group_delta))\n",
    "    estimated_det_jac = np.linalg.det(normal_coord.numpy())/((eps)**dim)\n",
    "    return torch.tensor(estimated_det_jac)\n",
    "\n",
    "def approximate_so3_jacobian(points, eps = 0.01):\n",
    "    return compute_approx_jacobian(points, so3_vee, so3_exp, so3_log, so3_inv, eps)"
   ]
  },
  {
   "cell_type": "code",
   "execution_count": 160,
   "metadata": {},
   "outputs": [],
   "source": [
    "center = torch.tensor(np.random.normal(0,1,(10,3)),dtype = torch.float32)\n",
    "estimated_det_jac = approximate_so3_jacobian(center, eps=eps)"
   ]
  },
  {
   "cell_type": "code",
   "execution_count": 161,
   "metadata": {},
   "outputs": [
    {
     "name": "stdout",
     "output_type": "stream",
     "text": [
      "tensor(1.00000e-04 *\n",
      "       [ 1.1545, -0.4900, -0.6735, -0.0721,  0.0232,  1.0705,  0.9453,\n",
      "         0.4071,  0.0519,  0.5972])\n"
     ]
    }
   ],
   "source": [
    "print(estimated_det_jac - det_jac(center))"
   ]
  }
 ],
 "metadata": {
  "kernelspec": {
   "display_name": "Python [conda env:pytorch3]",
   "language": "python",
   "name": "conda-env-pytorch3-py"
  },
  "language_info": {
   "codemirror_mode": {
    "name": "ipython",
    "version": 3
   },
   "file_extension": ".py",
   "mimetype": "text/x-python",
   "name": "python",
   "nbconvert_exporter": "python",
   "pygments_lexer": "ipython3",
   "version": "3.6.3"
  }
 },
 "nbformat": 4,
 "nbformat_minor": 2
}
