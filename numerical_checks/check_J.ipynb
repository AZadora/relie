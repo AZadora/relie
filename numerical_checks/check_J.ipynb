{
 "cells": [
  {
   "cell_type": "code",
   "execution_count": 1,
   "metadata": {
    "collapsed": true
   },
   "outputs": [],
   "source": [
    "import sys\n",
    "sys.path.append(\"..\")\n",
    "import numpy as np \n",
    "import torch\n",
    "from relie.utils.so3_tools import so3_hat, so3_vee, so3_exp, so3_log\n",
    "from relie.utils.se3_tools import se3_hat, se3_vee, se3_exp, se3_log, se3_inv"
   ]
  },
  {
   "cell_type": "code",
   "execution_count": 2,
   "metadata": {
    "collapsed": true
   },
   "outputs": [],
   "source": [
    "def det_jac_so3(x):\n",
    "    theta = x.norm(2,-1)\n",
    "    return 2*(1 - torch.cos(theta))/(theta**2)\n",
    "\n",
    "def so3_inv(el):\n",
    "    return el.transpose(-2,-1)\n",
    "    "
   ]
  },
  {
   "cell_type": "code",
   "execution_count": 3,
   "metadata": {
    "collapsed": true
   },
   "outputs": [],
   "source": [
    "def compute_approx_jacobian(points, vee, exp, log, inv, eps = 0.01):\n",
    "    points = points.unsqueeze(-2)\n",
    "    dim = points.shape[-1]\n",
    "    basis = torch.eye(dim, dtype=torch.float64).unsqueeze(0)\n",
    "    group_delta = exp(basis*eps + points)\n",
    "    points_inv = inv(exp(points))\n",
    "    normal_coord = vee(log(points_inv@group_delta))\n",
    "    estimated_det_jac = np.linalg.det(normal_coord.numpy())/((eps)**dim)\n",
    "    return torch.tensor(estimated_det_jac)"
   ]
  },
  {
   "cell_type": "markdown",
   "metadata": {},
   "source": [
    "### SO(3)"
   ]
  },
  {
   "cell_type": "code",
   "execution_count": 4,
   "metadata": {
    "collapsed": true
   },
   "outputs": [],
   "source": [
    "def approximate_so3_jacobian(points, eps = 0.01):\n",
    "    return compute_approx_jacobian(points, so3_vee, so3_exp, so3_log, so3_inv, eps)"
   ]
  },
  {
   "cell_type": "code",
   "execution_count": 5,
   "metadata": {},
   "outputs": [],
   "source": [
    "dim = 3\n",
    "eps = 0.005\n",
    "\n",
    "center = torch.tensor(np.random.normal(0,1,(10,dim)),dtype = torch.float64)\n",
    "estimated_det_jac = approximate_so3_jacobian(center, eps=eps)\n",
    "#print(estimated_det_jac - det_jac_so3(center))"
   ]
  },
  {
   "cell_type": "markdown",
   "metadata": {},
   "source": [
    "### SE(3)"
   ]
  },
  {
   "cell_type": "code",
   "execution_count": 6,
   "metadata": {
    "collapsed": true
   },
   "outputs": [],
   "source": [
    "def approximate_se3_jacobian(points, eps = 0.01):\n",
    "    return compute_approx_jacobian(points, se3_vee, se3_exp, se3_log, se3_inv, eps)"
   ]
  },
  {
   "cell_type": "code",
   "execution_count": 7,
   "metadata": {},
   "outputs": [
    {
     "name": "stdout",
     "output_type": "stream",
     "text": [
      "tensor([[[0.0921],\n",
      "         [0.0994],\n",
      "         [0.0925],\n",
      "         [0.0000],\n",
      "         [0.0000],\n",
      "         [0.0000]],\n",
      "\n",
      "        [[0.0993],\n",
      "         [0.0995],\n",
      "         [0.0989],\n",
      "         [0.0000],\n",
      "         [0.0000],\n",
      "         [0.0000]],\n",
      "\n",
      "        [[0.0980],\n",
      "         [0.0993],\n",
      "         [0.0981],\n",
      "         [0.0000],\n",
      "         [0.0000],\n",
      "         [0.0000]],\n",
      "\n",
      "        [[0.0982],\n",
      "         [0.0994],\n",
      "         [0.0986],\n",
      "         [0.0000],\n",
      "         [0.0000],\n",
      "         [0.0000]],\n",
      "\n",
      "        [[0.0895],\n",
      "         [0.0867],\n",
      "         [0.0957],\n",
      "         [0.0000],\n",
      "         [0.0000],\n",
      "         [0.0000]],\n",
      "\n",
      "        [[0.0866],\n",
      "         [0.0947],\n",
      "         [0.0818],\n",
      "         [0.0000],\n",
      "         [0.0000],\n",
      "         [0.0000]],\n",
      "\n",
      "        [[0.0947],\n",
      "         [0.0971],\n",
      "         [0.0935],\n",
      "         [0.0000],\n",
      "         [0.0000],\n",
      "         [0.0000]],\n",
      "\n",
      "        [[0.0966],\n",
      "         [0.0970],\n",
      "         [0.0993],\n",
      "         [0.0000],\n",
      "         [0.0000],\n",
      "         [0.0000]],\n",
      "\n",
      "        [[0.0979],\n",
      "         [0.0986],\n",
      "         [0.0971],\n",
      "         [0.0000],\n",
      "         [0.0000],\n",
      "         [0.0000]],\n",
      "\n",
      "        [[0.0920],\n",
      "         [0.0994],\n",
      "         [0.0923],\n",
      "         [0.0000],\n",
      "         [0.0000],\n",
      "         [0.0000]]], dtype=torch.float64)\n"
     ]
    },
    {
     "name": "stderr",
     "output_type": "stream",
     "text": [
      "/home/luca/anaconda2/envs/ds/lib/python3.5/site-packages/numpy/linalg/linalg.py:2010: RuntimeWarning: invalid value encountered in det\n",
      "  r = _umath_linalg.det(a, signature=signature)\n"
     ]
    }
   ],
   "source": [
    "dim = 6\n",
    "eps = 0.1\n",
    "\n",
    "center = torch.tensor(np.random.normal(0,1,(10,dim)),dtype = torch.float64)\n",
    "estimated_det_jac = approximate_se3_jacobian(center, eps=eps)"
   ]
  },
  {
   "cell_type": "code",
   "execution_count": 8,
   "metadata": {},
   "outputs": [
    {
     "data": {
      "text/plain": [
       "tensor([[6.2358e+03, 1.6871e+04, 3.2478e+07, 2.2302e+03, 1.7353e+03, 4.3283e+03],\n",
       "        [1.9454e+06, 7.0163e+03, 5.8126e+06, 5.8743e+05, 9.3346e+03, 1.3267e+03],\n",
       "        [8.0370e+03, 8.2796e+05, 1.1232e+04, 3.5107e+03, 1.7640e+04, 2.0147e+03],\n",
       "        [1.1372e+03, 6.6834e+04, 7.0387e+05, 4.4974e+08, 1.7241e+06, 2.4425e+02],\n",
       "        [1.9968e+03, 7.2730e+03, 1.6255e+05, 3.8968e+07, 1.4362e+03, 2.6949e+05],\n",
       "        [9.4137e+03, 2.1755e+04, 1.0536e+04, 1.3331e+04, 3.5022e+04, 1.2055e+05],\n",
       "        [2.1299e+03, 1.0771e+05, 8.5527e+02, 1.2495e+03, 1.2627e+07, 2.9380e+05],\n",
       "        [9.1207e+02, 1.3703e+07, 1.4626e+09, 8.2159e+02, 1.9024e+03, 1.8001e+10],\n",
       "        [1.4945e+04, 5.7412e+03, 4.0167e+03, 4.7756e+05, 4.0886e+04, 4.8041e+04],\n",
       "        [1.5230e+04, 2.0554e+03, 3.0993e+05, 4.1709e+05, 9.0155e+04, 6.4451e+02]],\n",
       "       dtype=torch.float64)"
      ]
     },
     "execution_count": 8,
     "metadata": {},
     "output_type": "execute_result"
    }
   ],
   "source": [
    "theta = torch.tensor(np.random.normal(0,0.1,(10,dim)),dtype = torch.float64)\n",
    "((1 - theta*torch.sin(theta))/(2-2*torch.cos(theta)))/theta**2"
   ]
  },
  {
   "cell_type": "code",
   "execution_count": null,
   "metadata": {},
   "outputs": [],
   "source": [
    "x = so3_log(torch.eye(3, dtype = torch.float64).unsqueeze(0)) \n",
    "x"
   ]
  },
  {
   "cell_type": "code",
   "execution_count": null,
   "metadata": {
    "collapsed": true
   },
   "outputs": [],
   "source": [
    "mask_nan = x != x"
   ]
  },
  {
   "cell_type": "code",
   "execution_count": null,
   "metadata": {
    "collapsed": true
   },
   "outputs": [],
   "source": [
    "x[mask_nan] = 0"
   ]
  },
  {
   "cell_type": "code",
   "execution_count": null,
   "metadata": {},
   "outputs": [],
   "source": [
    "x"
   ]
  },
  {
   "cell_type": "code",
   "execution_count": null,
   "metadata": {
    "collapsed": true
   },
   "outputs": [],
   "source": []
  }
 ],
 "metadata": {
  "kernelspec": {
   "display_name": "Python [conda env:ds]",
   "language": "python",
   "name": "conda-env-ds-py"
  },
  "language_info": {
   "codemirror_mode": {
    "name": "ipython",
    "version": 3
   },
   "file_extension": ".py",
   "mimetype": "text/x-python",
   "name": "python",
   "nbconvert_exporter": "python",
   "pygments_lexer": "ipython3",
   "version": "3.5.5"
  }
 },
 "nbformat": 4,
 "nbformat_minor": 2
}
