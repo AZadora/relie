{
 "cells": [
  {
   "cell_type": "code",
   "execution_count": null,
   "metadata": {},
   "outputs": [],
   "source": [
    "import numpy as np\n",
    "\n",
    "import torch\n",
    "import torch.nn as nn\n",
    "import torch.nn.functional as F\n",
    "from torch.autograd import Variable\n",
    "from torch.optim import Adam\n",
    "import matplotlib.pyplot as plt\n",
    "%matplotlib inline\n",
    "\n",
    "import lie_tools\n",
    "from lie_tools import rodrigues\n",
    "\n",
    "%config IPCompleter.greedy=True"
   ]
  },
  {
   "cell_type": "markdown",
   "metadata": {},
   "source": [
    "### functions"
   ]
  },
  {
   "cell_type": "code",
   "execution_count": null,
   "metadata": {
    "code_folding": []
   },
   "outputs": [],
   "source": [
    "def get_pointcloud(k):\n",
    "    x = torch.tensor(np.random.normal(0, 2, (k, 3)), dtype=torch.float32)\n",
    "    return x\n",
    "\n",
    "def get_se3(so3, r):\n",
    "    fill_shape = list(r.shape[:-2])\n",
    "    filler = torch.tensor([[0.,0.,0.,1.]]).view([1]*\\\n",
    "                            (len(fill_shape)+1)+[4]).repeat(fill_shape + [1,1])\n",
    "    se3 = torch.cat([so3, r], -1).type(torch.float32)\n",
    "    se3 = torch.cat([se3, filler], -2)\n",
    "    return se3\n",
    "\n",
    "def do_se3_action(se3, x):\n",
    "    # [tuple1, 4, 4]\n",
    "    # x = [tuple2, 3]\n",
    "    # x_hat = [tuple2, tuple1, 3]\n",
    "    \n",
    "    tuple1 = list(se3.shape[:-2])\n",
    "    tuple2 = list(x.shape[:-1])\n",
    "    \n",
    "    ones1 = [1]*len(tuple1)\n",
    "    ones2 = [1]*len(tuple2)\n",
    "    \n",
    "    se3 = se3.view(tuple1 + ones2 + [4,4])\n",
    "    x_hat = torch.cat([x, torch.ones(tuple2+[1])], -1)\n",
    "    x_hat = se3 @ x_hat.view(ones1 + tuple2 + [4,1])\n",
    "    \n",
    "    return x_hat[...,[0,1,2],0]\n"
   ]
  },
  {
   "cell_type": "markdown",
   "metadata": {},
   "source": [
    "### Create Data"
   ]
  },
  {
   "cell_type": "code",
   "execution_count": null,
   "metadata": {},
   "outputs": [],
   "source": [
    "N_POINTS = 25\n",
    "\n",
    "# generate random SE3 element \n",
    "v = torch.tensor(np.random.normal(0, 2, (3)))\n",
    "# v_ = torch.tensor(np.array([0., 0., 1.]))\n",
    "# v0 = torch.tensor(np.zeros((3))) + 1e-5\n",
    "\n",
    "r = torch.tensor(np.random.normal(0, 1, (3,1)))\n",
    "# r0 = torch.tensor(np.random.normal(0, 0, (3,1)))\n",
    "\n",
    "so3 = rodrigues(v)\n",
    "se3_true = get_se3(so3, r)\n",
    "#print(se3_true)\n",
    "\n",
    "# generate point cloud \n",
    "cloud = get_pointcloud(N_POINTS)\n",
    "# cloud = np.array([[2,0,0],\n",
    "#                   [0,2,0],\n",
    "#                   [0,0,2]])\n",
    "# cloud = torch.tensor(cloud, dtype=torch.float32)\n",
    "rotated_cloud = do_se3_action(se3_true, cloud)\n",
    "\n",
    "cloud_xy = cloud[...,:-1]\n",
    "cloud_z = cloud[...,-1]\n",
    "\n",
    "rotated_cloud_xy = rotated_cloud[...,:-1]\n",
    "rotated_cloud_z = rotated_cloud[..., -1]"
   ]
  },
  {
   "cell_type": "code",
   "execution_count": null,
   "metadata": {},
   "outputs": [],
   "source": [
    "fig = plt.figure(figsize=(5,5))\n",
    "plt.scatter(cloud_xy.numpy()[...,0], cloud_xy.numpy()[...,1], c='r', alpha=0.5)\n",
    "plt.scatter(rotated_cloud_xy.numpy()[...,0], rotated_cloud_xy.numpy()[...,1], c='g', alpha=0.5)\n",
    "plt.xlim(-5,5)\n",
    "plt.ylim(-5,5);"
   ]
  },
  {
   "cell_type": "markdown",
   "metadata": {},
   "source": [
    "### Train Functions"
   ]
  },
  {
   "cell_type": "code",
   "execution_count": null,
   "metadata": {},
   "outputs": [],
   "source": [
    "def forward(v, r, xy):\n",
    "    so3 = rodrigues(v)\n",
    "    se3 = get_se3(so3, r)\n",
    "    \n",
    "    xyz = torch.cat([xy, z_var], -1)\n",
    "    xyz_hat = do_se3_action(se3, xyz)\n",
    "    \n",
    "    return xyz_hat[...,:-1], xyz_hat[...,-1]\n",
    "\n",
    "def loss(xy, xy_hat):\n",
    "    # xy = (tuple2, 2)\n",
    "    # xy_hat = (tuple1, tuple2, 2)\n",
    "    l = (xy - xy_hat)**2\n",
    "    l = l.sum(-1).mean()\n",
    "    \n",
    "    return l\n",
    "\n",
    "def z_diff(z, z_var):\n",
    "    return (z - z_var).abs().mean()\n",
    "\n",
    "def print_progress(x, x_recon):\n",
    "    fig = plt.figure(figsize=(5,5))\n",
    "    plt.scatter(x_recon.detach().numpy()[...,0], x_recon.detach().numpy()[...,1], c='r', alpha=0.5)\n",
    "    plt.scatter(x.numpy()[...,0], x.numpy()[...,1], c='g', alpha=0.5)\n",
    "    plt.xlim(-6,6)\n",
    "    plt.ylim(-6,6);\n",
    "    \n",
    "N_ITER = 10000\n",
    "N_SAMPLES = 2\n",
    "\n",
    "# initialize z_axis\n",
    "z_var = torch.tensor(np.random.normal(0., 1.,\n",
    "                                      (list(cloud.shape[:-1]) + [1])),\n",
    "                     dtype=torch.float32,\n",
    "                    requires_grad=True)\n",
    "\n",
    "# se3 elements to update\n",
    "v_var = torch.tensor(np.random.normal(0, 1, (3)), requires_grad=True)\n",
    "r_var = torch.tensor(np.random.normal(0, 1, (3,1)), requires_grad=True)\n",
    "\n",
    "i_trained = 0"
   ]
  },
  {
   "cell_type": "code",
   "execution_count": null,
   "metadata": {
    "scrolled": false
   },
   "outputs": [],
   "source": [
    "optimize = Adam([z_var, v_var, r_var])\n",
    "\n",
    "print('train model:')\n",
    "for i in range(N_ITER):\n",
    "    i_trained += 1\n",
    "    optimize.zero_grad()\n",
    "    xy_hat, z_hat = forward(v_var, r_var, cloud_xy)\n",
    "    l = loss(rotated_cloud_xy, xy_hat)\n",
    "    l.backward()\n",
    "    optimize.step()\n",
    "    \n",
    "    if (i % 500) == 0:\n",
    "        print('\\r it:%d:\\t loss: %.6f \\t z_diff: %.3f' %\n",
    "              (i_trained, l, z_diff(cloud_z, z_var)))\n",
    "    if (i % 1000) == 0:\n",
    "        print_progress(rotated_cloud_xy, xy_hat)\n",
    "        \n",
    "so3_rec = rodrigues(v_var)\n",
    "se3_rec = get_se3(so3_rec, r_var)\n",
    "\n",
    "print()\n",
    "print('true')\n",
    "print(se3_true)\n",
    "print('rec')\n",
    "print(se3_rec)\n",
    "print('diff')\n",
    "print(se3_true - se3_rec)"
   ]
  },
  {
   "cell_type": "code",
   "execution_count": null,
   "metadata": {
    "collapsed": true
   },
   "outputs": [],
   "source": []
  }
 ],
 "metadata": {
  "kernelspec": {
   "display_name": "Python 3",
   "language": "python",
   "name": "python3"
  },
  "language_info": {
   "codemirror_mode": {
    "name": "ipython",
    "version": 3
   },
   "file_extension": ".py",
   "mimetype": "text/x-python",
   "name": "python",
   "nbconvert_exporter": "python",
   "pygments_lexer": "ipython3",
   "version": "3.6.1"
  }
 },
 "nbformat": 4,
 "nbformat_minor": 2
}
