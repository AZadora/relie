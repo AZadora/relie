{
 "cells": [
  {
   "cell_type": "code",
   "execution_count": 3,
   "metadata": {
    "collapsed": true
   },
   "outputs": [],
   "source": [
    "import numpy as np\n",
    "\n",
    "import torch\n",
    "import torch.nn as nn\n",
    "import torch.nn.functional as F\n",
    "from torch.autograd import Variable\n",
    "from torch.optim import Adam\n",
    "import matplotlib.pyplot as plt\n",
    "\n",
    "import lie_tools\n",
    "from lie_tools import rodrigues\n",
    "\n",
    "%config IPCompleter.greedy=True"
   ]
  },
  {
   "cell_type": "code",
   "execution_count": 4,
   "metadata": {
    "collapsed": true
   },
   "outputs": [],
   "source": [
    "def get_pointcloud(k):\n",
    "    x = torch.tensor(np.random.normal(0, 1, (k, 3)), dtype=torch.float32)\n",
    "    return x"
   ]
  },
  {
   "cell_type": "code",
   "execution_count": null,
   "metadata": {
    "collapsed": true
   },
   "outputs": [],
   "source": []
  },
  {
   "cell_type": "code",
   "execution_count": 5,
   "metadata": {},
   "outputs": [
    {
     "data": {
      "text/plain": [
       "tensor([[-1.1379, -0.4028, -0.4629],\n",
       "        [ 0.0874,  1.0766, -0.6072],\n",
       "        [-1.7226, -0.9780, -1.5228],\n",
       "        [-1.2961,  1.5090, -1.9034],\n",
       "        [-0.6937,  0.2916,  0.6668],\n",
       "        [-1.6789,  2.1931,  0.2377],\n",
       "        [-2.0712, -1.3042,  0.9699]])"
      ]
     },
     "execution_count": 5,
     "metadata": {},
     "output_type": "execute_result"
    }
   ],
   "source": [
    "def get_se3(so3, r):\n",
    "    fill_shape = list(r.shape[:-2])\n",
    "    filler = torch.tensor([[0.,0.,0.,1.]]).view([1]*\\\n",
    "                            (len(fill_shape)+1)+[4]).repeat(fill_shape + [1,1])\n",
    "    se3 = torch.cat([so3, r], -1).type(torch.float32)\n",
    "    se3 = torch.cat([se3, filler], -2)\n",
    "    return se3\n",
    "\n",
    "def do_se3_action(se3, x):\n",
    "    # [tuple1, 4, 4]\n",
    "    # x = [tuple2, 3]\n",
    "    # x_hat = [tuple2, tuple1, 3]\n",
    "    \n",
    "    tuple1 = list(se3.shape[:-2])\n",
    "    tuple2 = list(x.shape[:-1])\n",
    "    \n",
    "    ones1 = [1]*len(tuple1)\n",
    "    ones2 = [1]*len(tuple2)\n",
    "    \n",
    "    se3 = se3.view(tuple1 + ones2 + [4,4])\n",
    "    x_hat = torch.cat([x, torch.ones(tuple2+[1])], -1)\n",
    "    x_hat = se3 @ x_hat.view(ones1 + tuple2 + [4,1])\n",
    "    \n",
    "    return x_hat[...,[0,1,2],0]\n",
    "    \n",
    "do_se3_action(get_se3(so3, r), get_pointcloud(7))"
   ]
  },
  {
   "cell_type": "code",
   "execution_count": 8,
   "metadata": {
    "collapsed": true
   },
   "outputs": [],
   "source": [
    "N_POINTS = 3\n",
    "# create dataset \n",
    "\n",
    "# generate random SE3 element \n",
    "v = torch.tensor(np.random.normal(0, 1, (3)))\n",
    "so3 = rodrigues(v)\n",
    "r = torch.tensor(np.random.normal(0, 1, (3,1)))\n",
    "\n",
    "se3_true = get_se3(so3, r)\n",
    "\n",
    "# generate point cloud \n",
    "cloud = get_pointcloud(N_POINTS)\n",
    "\n",
    "rotated_cloud = do_se3_action(se3_true, cloud)"
   ]
  },
  {
   "cell_type": "code",
   "execution_count": null,
   "metadata": {
    "collapsed": true
   },
   "outputs": [],
   "source": [
    "N_ITER = 100\n",
    "N_SAMPLES = 2\n",
    "\n",
    "\n",
    "\n"
   ]
  }
 ],
 "metadata": {
  "kernelspec": {
   "display_name": "Python 3",
   "language": "python",
   "name": "python3"
  },
  "language_info": {
   "codemirror_mode": {
    "name": "ipython",
    "version": 3
   },
   "file_extension": ".py",
   "mimetype": "text/x-python",
   "name": "python",
   "nbconvert_exporter": "python",
   "pygments_lexer": "ipython3",
   "version": "3.6.3"
  }
 },
 "nbformat": 4,
 "nbformat_minor": 2
}
