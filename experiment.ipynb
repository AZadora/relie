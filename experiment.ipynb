{
 "cells": [
  {
   "cell_type": "markdown",
   "metadata": {},
   "source": [
    "#### imports"
   ]
  },
  {
   "cell_type": "code",
   "execution_count": null,
   "metadata": {
    "collapsed": true
   },
   "outputs": [],
   "source": [
    "import numpy as np\n",
    "\n",
    "import torch\n",
    "import torch.nn as nn\n",
    "import torch.nn.functional as F\n",
    "from torch.autograd import Variable\n",
    "from torch.optim import Adam\n",
    "import matplotlib.pyplot as plt\n",
    "%matplotlib inline\n",
    "\n",
    "import lie_tools\n",
    "from lie_tools import rodrigues\n",
    "\n",
    "%config IPCompleter.greedy=True"
   ]
  },
  {
   "cell_type": "markdown",
   "metadata": {},
   "source": [
    "#### functions"
   ]
  },
  {
   "cell_type": "code",
   "execution_count": null,
   "metadata": {
    "code_folding": [
     1,
     5,
     13,
     32,
     51,
     54
    ],
    "collapsed": true
   },
   "outputs": [],
   "source": [
    "# point cloud creation and se3 creation + action\n",
    "def get_pointcloud(k):\n",
    "    x = torch.tensor(np.random.normal(0, 2, (k, 3)), dtype=torch.float32)\n",
    "    return x\n",
    "\n",
    "def get_se3(so3, r):\n",
    "    fill_shape = list(r.shape[:-2])\n",
    "    filler = torch.tensor([[0.,0.,0.,1.]]).view([1]*\\\n",
    "                            (len(fill_shape)+1)+[4]).repeat(fill_shape + [1,1])\n",
    "    se3 = torch.cat([so3, r], -1).type(torch.float32)\n",
    "    se3 = torch.cat([se3, filler], -2)\n",
    "    return se3\n",
    "\n",
    "def do_se3_action(se3, x):\n",
    "    # [tuple1, 4, 4]\n",
    "    # x = [tuple2, 3]\n",
    "    # x_hat = [tuple2, tuple1, 3]\n",
    "    \n",
    "    tuple1 = list(se3.shape[:-2])\n",
    "    tuple2 = list(x.shape[:-1])\n",
    "    \n",
    "    ones1 = [1]*len(tuple1)\n",
    "    ones2 = [1]*len(tuple2)\n",
    "    \n",
    "    se3 = se3.view(tuple1 + ones2 + [4,4])\n",
    "    x_hat = torch.cat([x, torch.ones(tuple2+[1])], -1)\n",
    "    x_hat = se3 @ x_hat.view(ones1 + tuple2 + [4,1])\n",
    "    \n",
    "    return x_hat[...,[0,1,2],0]\n",
    "\n",
    "# plotting\n",
    "def z_diff(z, z_var):\n",
    "    return ((z-z[0]) - (z_var-z_var[0]).squeeze()).abs().mean()\n",
    "\n",
    "def print_progress(x, x_recon, x_label='original', \n",
    "                   x_recon_label='recon',  s=100):\n",
    "    fig = plt.figure(figsize=(5,5))\n",
    "    plt.scatter(x_recon.detach().numpy()[...,0], x_recon.detach().numpy()[...,1],\n",
    "                c='r', alpha=0.5, s=s, label=x_recon_label)\n",
    "    plt.scatter(x.numpy()[...,0], x.numpy()[...,1],\n",
    "                c='g', alpha=0.5, s=s, label=x_label)\n",
    "    plt.xlim(-8,8)\n",
    "    plt.ylim(-8,8);\n",
    "    plt.legend()\n",
    "    "
   ]
  },
  {
   "cell_type": "markdown",
   "metadata": {},
   "source": [
    "#### create true data"
   ]
  },
  {
   "cell_type": "code",
   "execution_count": null,
   "metadata": {
    "code_folding": [
     2
    ]
   },
   "outputs": [],
   "source": [
    "N_POINTS = 5\n",
    "\n",
    "def create_true_data(n_points=N_POINTS, lie_group='se3', no_rot=False, show=False):\n",
    "    \n",
    "    v = torch.tensor(np.random.normal(0, 2, (3)))\n",
    "    v0 = torch.tensor(np.zeros((3))) + 1e-5\n",
    "    \n",
    "    if lie_group == 'se3':\n",
    "        r = torch.tensor(np.random.normal(0, 1, (3,1)))\n",
    "    elif lie_group == 'so3':\n",
    "        r = torch.tensor(np.random.normal(0, 0, (3,1)))\n",
    "    else:\n",
    "        raise Exception('use either so3 or se3')\n",
    "    \n",
    "    if no_rot:\n",
    "        v = v0\n",
    "\n",
    "    so3 = rodrigues(v)\n",
    "    se3 = get_se3(so3, r)\n",
    "\n",
    "    # generate point cloud \n",
    "    cloud = get_pointcloud(n_points)\n",
    "    rotated_cloud = do_se3_action(se3, cloud)\n",
    "\n",
    "    cloud_xy = cloud[...,:-1]\n",
    "    cloud_z = cloud[...,-1]\n",
    "\n",
    "    rotated_cloud_xy = rotated_cloud[...,:-1]\n",
    "    rotated_cloud_z = rotated_cloud[..., -1]\n",
    "    \n",
    "    if show:\n",
    "        print_progress(cloud_xy, rotated_cloud_xy, 'original', 'rotated')\n",
    "    \n",
    "    return cloud, cloud_xy, cloud_z,\\\n",
    "            rotated_cloud, rotated_cloud_xy, rotated_cloud_z, se3\n",
    "    "
   ]
  },
  {
   "cell_type": "markdown",
   "metadata": {},
   "source": [
    "#### train data"
   ]
  },
  {
   "cell_type": "code",
   "execution_count": null,
   "metadata": {
    "code_folding": [
     2
    ],
    "collapsed": true
   },
   "outputs": [],
   "source": [
    "N_ITER = 10000\n",
    "\n",
    "def create_train_data(cloud, use_z=True, rot=True, trans=False):\n",
    "    optim_params = []\n",
    "    \n",
    "    # initialize z_axis\n",
    "    z_var = cloud[...,-1].clone().unsqueeze(-1)\n",
    "    if use_z:\n",
    "        z_var = torch.tensor(np.random.normal(0., 1.,\n",
    "                                          (list(cloud.shape[:-1]) + [1])),\n",
    "                             dtype=torch.float32,\n",
    "                            requires_grad=True)\n",
    "        optim_params.append(z_var)\n",
    "        \n",
    "    # se3 elements to update\n",
    "    v_var = torch.tensor(np.zeros((3))) + 1e-5\n",
    "    if rot:\n",
    "        v_var = torch.tensor(np.random.normal(0, 1, (3)), requires_grad=True)\n",
    "        optim_params.append(v_var)\n",
    "    \n",
    "    r_var = torch.tensor(np.random.normal(0, 0, (3,1)))\n",
    "    if trans:\n",
    "        r_var = torch.tensor(np.random.normal(0, 1, (3,1)), requires_grad=True)\n",
    "        optim_params.append(r_var)\n",
    "    \n",
    "    return z_var, v_var, r_var, optim_params   \n",
    "        \n",
    "    \n",
    "    "
   ]
  },
  {
   "cell_type": "markdown",
   "metadata": {},
   "source": [
    "#### trainer"
   ]
  },
  {
   "cell_type": "code",
   "execution_count": null,
   "metadata": {
    "code_folding": [
     3,
     11,
     20,
     30,
     51
    ],
    "scrolled": false
   },
   "outputs": [],
   "source": [
    "class trainer:\n",
    "    \"\"\"Model to estimate rotation and depth\"\"\"\n",
    "    \n",
    "    def __init__(self, true_data, train_data):\n",
    "        self.i_trained = 0\n",
    "        self.cloud, self.cloud_xy, self.cloud_z, self.rotated_cloud,\\\n",
    "            self.rotated_cloud_xy, self.rotated_cloud_z, self.se3 = true_data\n",
    "        self.z_var, self.v_var, self.r_var, optim_params = train_data\n",
    "        \n",
    "        self.optimize = Adam(optim_params)\n",
    "\n",
    "    def forward(self, v, r, xy):\n",
    "        so3 = rodrigues(v)\n",
    "        se3 = get_se3(so3, r)\n",
    "\n",
    "        xyz = torch.cat([xy, self.z_var], -1)\n",
    "        xyz_hat = do_se3_action(se3, xyz)\n",
    "\n",
    "        return xyz_hat[...,:-1], xyz_hat[...,-1]\n",
    "\n",
    "    def loss(self, xy, xy_hat):\n",
    "        # xy = (tuple2, 2)\n",
    "        # xy_hat = (tuple1, tuple2, 2)\n",
    "        l = (xy - xy_hat)**2\n",
    "        l = l.sum(-1).mean()\n",
    "\n",
    "        return l\n",
    " \n",
    "     \n",
    "    \n",
    "    def train(self, n_iter=10000, print_freq=500, plot_freq=2000):\n",
    "        print('train model with %d points in cloud:' % (N_POINTS))\n",
    "        for i in range(n_iter):\n",
    "            self.i_trained += 1\n",
    "            self.optimize.zero_grad()\n",
    "            xy_hat, z_hat = self.forward(self.v_var, self.r_var, self.cloud_xy)\n",
    "            l = self.loss(self.rotated_cloud_xy, xy_hat)\n",
    "            l.backward()\n",
    "            self.optimize.step()\n",
    "\n",
    "            if (i % print_freq) == 0:\n",
    "                print('\\r it:%d:\\t loss: %.6f \\t z_diff: %.3f' %\n",
    "                      (self.i_trained, l, z_diff(self.cloud_z, self.z_var)))\n",
    "            if (i % plot_freq) == 0:\n",
    "                print_progress(self.rotated_cloud_xy, xy_hat)\n",
    "        \n",
    "        self.plot_res()\n",
    "        \n",
    "        \n",
    "        \n",
    "        \n",
    "    def plot_res(self):\n",
    "        so3_rec = rodrigues(self.v_var)\n",
    "        se3_rec = get_se3(so3_rec, self.r_var)\n",
    "\n",
    "        print('\\nse3 analysis')\n",
    "        print('true')\n",
    "        print(self.se3)\n",
    "        print('rec')\n",
    "        print(se3_rec)\n",
    "        print('diff')\n",
    "        print(self.se3 - se3_rec)\n",
    "\n",
    "        print('\\nz analysis')\n",
    "        cloud_z_rel = (self.cloud_z - self.cloud_z[0])\n",
    "        z_var_rel  = (self.z_var - self.z_var[0]).squeeze()\n",
    "        print('true')\n",
    "        print(cloud_z_rel)\n",
    "        print('rec')\n",
    "        print(z_var_rel)\n",
    "        print('diff')\n",
    "        print(cloud_z_rel - z_var_rel)"
   ]
  },
  {
   "cell_type": "markdown",
   "metadata": {},
   "source": [
    "#### Different Experiment Settings:\n",
    "- fixing z\n",
    "- no translation\n",
    "- no rotation"
   ]
  },
  {
   "cell_type": "markdown",
   "metadata": {},
   "source": [
    "#### fixing z"
   ]
  },
  {
   "cell_type": "code",
   "execution_count": null,
   "metadata": {},
   "outputs": [],
   "source": [
    "true_data = create_true_data(lie_group='se3', no_rot=False, show=False)\n",
    "train_data = create_train_data(true_data[0], use_z=False)\n",
    "\n",
    "model = trainer(true_data, train_data)"
   ]
  },
  {
   "cell_type": "code",
   "execution_count": null,
   "metadata": {
    "scrolled": false
   },
   "outputs": [],
   "source": [
    "model.train(n_iter=10000, print_freq=1000,plot_freq=1500)"
   ]
  },
  {
   "cell_type": "markdown",
   "metadata": {},
   "source": [
    "#### no translation (SO3)"
   ]
  },
  {
   "cell_type": "code",
   "execution_count": null,
   "metadata": {},
   "outputs": [],
   "source": [
    "true_data = create_true_data(lie_group='so3', no_rot=False, show=False)\n",
    "train_data = create_train_data(true_data[0], trans=False)\n",
    "\n",
    "model = trainer(true_data, train_data)"
   ]
  },
  {
   "cell_type": "code",
   "execution_count": null,
   "metadata": {
    "scrolled": false
   },
   "outputs": [],
   "source": [
    "model.train(n_iter=10000, print_freq=1000,plot_freq=1500)"
   ]
  },
  {
   "cell_type": "markdown",
   "metadata": {},
   "source": [
    "#### no rotation"
   ]
  },
  {
   "cell_type": "code",
   "execution_count": null,
   "metadata": {
    "collapsed": true
   },
   "outputs": [],
   "source": [
    "true_data = create_true_data(lie_group='se3', no_rot=True, show=False)\n",
    "train_data = create_train_data(true_data[0], rot=False)\n",
    "\n",
    "model = trainer(true_data, train_data)"
   ]
  },
  {
   "cell_type": "code",
   "execution_count": null,
   "metadata": {
    "scrolled": false
   },
   "outputs": [],
   "source": [
    "model.train(n_iter=10000, print_freq=1000,plot_freq=1500)"
   ]
  },
  {
   "cell_type": "code",
   "execution_count": null,
   "metadata": {
    "collapsed": true
   },
   "outputs": [],
   "source": []
  }
 ],
 "metadata": {
  "kernelspec": {
   "display_name": "Python 3",
   "language": "python",
   "name": "python3"
  },
  "language_info": {
   "codemirror_mode": {
    "name": "ipython",
    "version": 3
   },
   "file_extension": ".py",
   "mimetype": "text/x-python",
   "name": "python",
   "nbconvert_exporter": "python",
   "pygments_lexer": "ipython3",
   "version": "3.6.1"
  }
 },
 "nbformat": 4,
 "nbformat_minor": 2
}
