{
 "cells": [
  {
   "cell_type": "markdown",
   "metadata": {},
   "source": [
    "#### imports"
   ]
  },
  {
   "cell_type": "code",
   "execution_count": null,
   "metadata": {},
   "outputs": [],
   "source": [
    "import numpy as np\n",
    "\n",
    "import torch\n",
    "import torch.nn as nn\n",
    "import torch.nn.functional as F\n",
    "from torch.distributions import Normal\n",
    "from torch.optim import Adam\n",
    "\n",
    "import matplotlib.pyplot as plt\n",
    "%matplotlib inline\n",
    "\n",
    "import lie_tools\n",
    "from lie_tools import rodrigues\n",
    "\n",
    "import sys\n",
    "sys.path.append(\"..\")\n",
    "\n",
    "from pushed_normal import PushedNormalSO3\n",
    "from relie.flow import LocalDiffeoTransformedDistribution as LDTD\n",
    "from relie.lie_distr import SO3ExpTransform, SO3Prior\n",
    "\n",
    "%config IPCompleter.greedy=True"
   ]
  },
  {
   "cell_type": "markdown",
   "metadata": {},
   "source": [
    "#### functions"
   ]
  },
  {
   "cell_type": "code",
   "execution_count": null,
   "metadata": {
    "code_folding": [
     45,
     51
    ],
    "collapsed": true
   },
   "outputs": [],
   "source": [
    "# point cloud creation and se3 creation + action\n",
    "def get_pointcloud(k):\n",
    "    x = torch.tensor(np.random.normal(0, 2, (k, 3)), dtype=torch.float64)\n",
    "    return x\n",
    "\n",
    "def get_se3(so3, r):\n",
    "    fill_shape = list(r.shape[:-2])\n",
    "    filler = torch.tensor([[0.,0.,0.,1.]]).view([1]*\\\n",
    "                            (len(fill_shape)+1)+[4]).repeat(fill_shape + [1,1])\n",
    "    se3 = torch.cat([so3, r], -1)\n",
    "    se3 = torch.cat([se3, filler.double()], -2)\n",
    "    return se3\n",
    "\n",
    "def do_se3_action(se3, x):\n",
    "    # [tuple1, 4, 4]\n",
    "    # x = [tuple2, 3]\n",
    "    # x_hat = [tuple2, tuple1, 3]\n",
    "    \n",
    "    tuple1 = list(se3.shape[:-2])\n",
    "    tuple2 = list(x.shape[:-1])\n",
    "    \n",
    "    ones1 = [1]*len(tuple1)\n",
    "    ones2 = [1]*len(tuple2)\n",
    "    \n",
    "    se3 = se3.view(tuple1 + ones2 + [4,4])\n",
    "    x_hat = torch.cat([x, torch.ones(tuple2+[1]).double()], -1)\n",
    "    x_hat = se3 @ x_hat.view(ones1 + tuple2 + [4,1])\n",
    "    \n",
    "    return x_hat[...,[0,1,2],0]\n",
    "\n",
    "def do_so3_action(so3, x):\n",
    "    # so3 = [tuple1, 3, 3]\n",
    "    # x = [tuple2, 3]\n",
    "    # x_hat = [tuple2, tuple1, 3]\n",
    "    \n",
    "    tuple1 = list(so3.shape[:-2])\n",
    "    tuple2 = list(x.shape[:-1])\n",
    "    \n",
    "    so3 = so3.view(tuple1 + [1]*len(tuple2) + [3,3])\n",
    "    x = x.view([1]*len(tuple1) + tuple2 + [3,1])\n",
    "    x_hat = so3 @ x\n",
    "    \n",
    "    return x_hat.squeeze()\n",
    "\n",
    "# plotting\n",
    "def z_diff(z, z_var):\n",
    "    d_pos = ((z-z[0]) - (z_var-z_var[0]).squeeze()).abs().mean()\n",
    "    d_min = ((z-z[0]) - (-1*(z_var-z_var[0]).squeeze())).abs().mean()\n",
    "    \n",
    "    return min(d_pos, d_min)\n",
    "\n",
    "def print_progress(x, x_recon, x_label='original', \n",
    "                   x_recon_label='recon', title='', s=100):\n",
    "    fig = plt.figure(figsize=(5,5))\n",
    "    plt.scatter(x_recon.detach().numpy()[...,0], x_recon.detach().numpy()[...,1],\n",
    "                c='r', alpha=0.5, s=s, label=x_recon_label)\n",
    "    plt.scatter(x.numpy()[...,0], x.numpy()[...,1],\n",
    "                c='g', alpha=0.5, s=s, label=x_label)\n",
    "    plt.xlim(-8,8)\n",
    "    plt.ylim(-8,8);\n",
    "    plt.legend()\n",
    "    plt.title(title)"
   ]
  },
  {
   "cell_type": "markdown",
   "metadata": {},
   "source": [
    "#### create true data"
   ]
  },
  {
   "cell_type": "code",
   "execution_count": null,
   "metadata": {
    "code_folding": [
     5
    ],
    "collapsed": true
   },
   "outputs": [],
   "source": [
    "N_POINTS = 2\n",
    "\n",
    "def xy_z_decomp(xyz):\n",
    "    return xyz[...,:-1], xyz[...,-1]\n",
    "\n",
    "def create_true_data(n_points=N_POINTS, n_views=1,\n",
    "                     lie_group='se3', no_rot=False, show=False):\n",
    "    \n",
    "    # generate point cloud \n",
    "    cloud = get_pointcloud(n_points)\n",
    "    \n",
    "    lie_elements = []\n",
    "    rotated_clouds = []\n",
    "    for view in range(n_views):\n",
    "        v = torch.tensor(np.random.normal(0, 2, (3)))\n",
    "        v0 = torch.tensor(np.zeros((3))) + 1e-5\n",
    "\n",
    "        if lie_group == 'se3':\n",
    "            r = torch.tensor(np.random.normal(0, 1, (3,1)))\n",
    "        elif lie_group == 'so3':\n",
    "            r = torch.tensor(np.random.normal(0, 0, (3,1)))\n",
    "        else:\n",
    "            raise Exception('use either so3 or se3')\n",
    "\n",
    "        if no_rot:\n",
    "            v = v0\n",
    "\n",
    "        so3 = rodrigues(v)\n",
    "        se3 = get_se3(so3, r)\n",
    "        rotated_cloud = do_se3_action(se3, cloud)\n",
    "        \n",
    "        if lie_group == 'se3':\n",
    "            lie_elements.append(se3)\n",
    "        elif lie_group=='so3':\n",
    "            lie_elements.append(so3)\n",
    "            \n",
    "        rotated_clouds.append(rotated_cloud)\n",
    "\n",
    "        if show:\n",
    "            cloud_xy, _ = xy_z_decomp(cloud)\n",
    "            rotated_cloud_xy, _ = xy_z_decomp(rotated_cloud)\n",
    "            print_progress(cloud_xy, rotated_cloud_xy,\n",
    "                           'original', ('rotated %d' % view), title='creation')\n",
    "        \n",
    "    return cloud, rotated_clouds, lie_elements\n",
    "    "
   ]
  },
  {
   "cell_type": "markdown",
   "metadata": {},
   "source": [
    "#### train data"
   ]
  },
  {
   "cell_type": "code",
   "execution_count": null,
   "metadata": {
    "code_folding": []
   },
   "outputs": [],
   "source": [
    "def init_train_vars(cloud, n_views=1, prob=True, z_given=True, rot=True, trans=True):\n",
    "    optim_params = []\n",
    "    v_vars, r_vars = [], []\n",
    "    \n",
    "    # initialize z_axis\n",
    "    z_var = cloud[...,-1].clone().unsqueeze(-1)\n",
    "    if not z_given:\n",
    "        z_var = torch.tensor(np.random.normal(0., 1.,\n",
    "                                          (list(cloud.shape[:-1]) + [1])),\n",
    "                             dtype=torch.float64,\n",
    "                             requires_grad=True)\n",
    "        optim_params.append(z_var)\n",
    "\n",
    "    if prob:\n",
    "        p_vars = []\n",
    "        for view in range(n_views):\n",
    "            p = PushedNormalSO3()\n",
    "            p_vars.append(p)\n",
    "            optim_params += list(p.parameters())\n",
    "        return z_var, p_vars, optim_params\n",
    "        \n",
    "    for view in range(n_views):\n",
    "        # se3 rotation\n",
    "        v_var = torch.tensor(np.zeros((3))) + 1e-5\n",
    "        if rot:\n",
    "            v_var = torch.tensor(np.random.normal(0, 1, (3)), requires_grad=True)\n",
    "            optim_params.append(v_var)\n",
    "        v_vars.append(v_var)\n",
    "        \n",
    "        # se3 translation\n",
    "        r_var = torch.tensor(np.random.normal(0, 0, (3,1)))\n",
    "        if trans:\n",
    "            r_var = torch.tensor(np.random.normal(0, 1, (3,1)), requires_grad=True)\n",
    "            optim_params.append(r_var)\n",
    "        r_vars.append(r_var)\n",
    "        \n",
    "        \n",
    "    return z_var, v_vars, r_vars, optim_params   \n",
    "  "
   ]
  },
  {
   "cell_type": "markdown",
   "metadata": {},
   "source": [
    "#### trainer"
   ]
  },
  {
   "cell_type": "code",
   "execution_count": null,
   "metadata": {
    "code_folding": [
     52,
     67
    ],
    "scrolled": false
   },
   "outputs": [],
   "source": [
    "N_ITER = 10000\n",
    "\n",
    "class LieModel:\n",
    "    \"\"\"Model to estimate rotation and depth\"\"\"\n",
    "    \n",
    "    def __init__(self, data, train_vars, lie_group=None, prior=None, prob=True, kl_beta=0.1):\n",
    "        \"\"\"\n",
    "        :param data: (cloud, rotated_clouds, lie_elements)\n",
    "        :param train_vars: (z_vars, _, optim_params),\n",
    "        where _ = (v_vars, r_vars) or (distribution) is prob is true \n",
    "        :param lie_group: indicate Lie group, so3 or se3\n",
    "        :param prior: prior distribution over group\n",
    "        :param prob: point estimate or probabilistic, boolean\n",
    "        :param kl_beta: scaling of KL strenght on loss\n",
    "        \"\"\"\n",
    "        \n",
    "        self.i_trained = 0\n",
    "        self.lie_group=lie_group\n",
    "        self.prior = prior\n",
    "        self.prob = prob\n",
    "        self.kl_beta = 0.1\n",
    "        self.cloud, self.rotated_clouds, self.lie_elements = data\n",
    "        if prob:\n",
    "            self.z_var, self.distributions, self.optim_params = train_vars\n",
    "        else:\n",
    "            self.z_var, self.v_vars, self.r_vars, self.optim_params = train_vars\n",
    "            \n",
    "        self.optimizer = Adam(self.optim_params)\n",
    "    \n",
    "    def forward(self, lie_el, z, xy):\n",
    "        \"\"\"\n",
    "        :param lie_el:  lie group element to apply\n",
    "        :param z: z-axis of cloud, (learnable of given)\n",
    "        :param xy: xy-axis of cloud, fixed\n",
    "        \"\"\"\n",
    "        xyz = torch.cat([xy, z], -1)\n",
    "        if self.lie_group == 'so3':\n",
    "            xyz_hat = do_so3_action(lie_el, xyz)\n",
    "        elif self.lie_group == 'se3':\n",
    "            xyz_hat = do_se3_action(lie_el, xyz)\n",
    "        else:\n",
    "            raise ValueError(\"lie_type must be so3 or se3, %s given\" % self.lie_group)\n",
    "        \n",
    "        return xy_z_decomp(xyz_hat)\n",
    "    \n",
    "    def loss(self, xy, xy_hat):\n",
    "        l = (xy - xy_hat)**2\n",
    "        l = l.sum(-1).mean() \n",
    "                    \n",
    "        return l\n",
    " \n",
    "\n",
    "    def get_lie_element(self, p, v, r):\n",
    "        \"\"\"\n",
    "        :param p: probability distribution\n",
    "        :param v: so3 algebra, R3 \n",
    "        :param r: translation vector, R3\n",
    "        \"\"\"\n",
    "        if self.prob:\n",
    "            lie_el = p.rsample(torch.Size([1]))\n",
    "        else:\n",
    "            lie_el = rodrigues(v)\n",
    "            if self.lie_group=='se3':\n",
    "                lie_el = get_se3(lie_el, r)\n",
    "                \n",
    "        return lie_el\n",
    "        \n",
    "    def train(self, n_iter=N_ITER, print_freq=500, plot_freq=20000):\n",
    "        print('train model with %d points in cloud:' % (self.cloud.shape[-2]))\n",
    "        for i in range(n_iter):\n",
    "            self.i_trained += 1\n",
    "            self.optimizer.zero_grad()\n",
    "            l = 0\n",
    "            kl = 0\n",
    "            if (i % print_freq) == 0:\n",
    "                    print('  it:%d:' % self.i_trained)\n",
    "                    \n",
    "            for j, view in enumerate(self.rotated_clouds):\n",
    "                cloud_xy, cloud_z = xy_z_decomp(self.cloud)\n",
    "                rotated_cloud_xy, _ = xy_z_decomp(view)\n",
    "                \n",
    "                if self.prob:\n",
    "                    lie_el = self.get_lie_element(self.distributions[j], None, None)\n",
    "                else: \n",
    "                    lie_el = self.get_lie_element(None, self.v_vars[j], self.r_vars[j])\n",
    "                    \n",
    "                xy_hat, z_hat = self.forward(lie_el, self.z_var, cloud_xy)\n",
    "                \n",
    "                l_view = self.loss(rotated_cloud_xy, xy_hat)\n",
    "                l += l_view\n",
    "                \n",
    "                if self.prob:\n",
    "                    kl = self.distributions[j].kl_div(lie_el, self.prior)\n",
    "                    l += kl*self.kl_beta\n",
    "                \n",
    "                if (i % print_freq) == 0:\n",
    "                    print('\\t view %d \\t loss: %.6f \\t kl: %.6f \\t z_diff: %.3f' %\n",
    "                          (j, l_view, kl, z_diff(cloud_z, self.z_var)))\n",
    "                    \n",
    "                if (i % plot_freq) == 0:\n",
    "                    print_progress(rotated_cloud_xy, xy_hat,\n",
    "                                   x_label = 'view %d' % j,\n",
    "                                   x_recon_label = 'recon',\n",
    "                                   title='iter: %d' % self.i_trained)\n",
    "            l.backward()\n",
    "            self.optimizer.step()\n",
    "        \n",
    "        self.plot_res()\n",
    "   \n",
    "    def plot_res(self):\n",
    "        print('-'*50)\n",
    "        for i in range(len(self.rotated_clouds)):\n",
    "            print('view %d' % i)\n",
    "            if self.prob:\n",
    "                lie_rec = self.get_lie_element(self.distributions[i], None, None)\n",
    "            else: \n",
    "                lie_rec = self.get_lie_element(None, self.v_vars[i], self.r_vars[i])\n",
    "\n",
    "            print('\\nlie analysis')\n",
    "            print('true')\n",
    "            print(self.lie_elements[i])\n",
    "            print('rec')\n",
    "            print(lie_rec)\n",
    "            print('diff')\n",
    "            print(self.lie_elements[i] - lie_rec)\n",
    "\n",
    "            print('\\nz analysis')\n",
    "            _, cloud_z = xy_z_decomp(self.cloud)\n",
    "            cloud_z_rel = (cloud_z - cloud_z[0])\n",
    "            z_var_rel  = (self.z_var - self.z_var[0]).squeeze()\n",
    "            print('true')\n",
    "            print(cloud_z_rel)\n",
    "            print('rec')\n",
    "            print(z_var_rel)\n",
    "            print('diff')\n",
    "            print(cloud_z_rel - z_var_rel)\n",
    "            \n",
    "            print('-'*50)"
   ]
  },
  {
   "cell_type": "markdown",
   "metadata": {},
   "source": [
    "#### Different Experiment Settings:\n",
    "- fixing z\n",
    "- variable z"
   ]
  },
  {
   "cell_type": "markdown",
   "metadata": {},
   "source": [
    "#### fixing z"
   ]
  },
  {
   "cell_type": "code",
   "execution_count": null,
   "metadata": {},
   "outputs": [],
   "source": [
    "n_points=3\n",
    "n_views=1\n",
    "lie_group = 'so3'\n",
    "prior = SO3Prior()\n",
    "prob=True\n",
    "\n",
    "data = create_true_data(n_points=n_points, n_views=n_views, lie_group=lie_group, show=False)\n",
    "train_vars = init_train_vars(data[0], n_views=n_views, prob=prob, z_given=True)\n",
    "\n",
    "model = LieModel(data, train_vars, lie_group=lie_group, prior=prior, prob=prob, kl_beta=1.)"
   ]
  },
  {
   "cell_type": "code",
   "execution_count": null,
   "metadata": {
    "scrolled": false
   },
   "outputs": [],
   "source": [
    "model.train(n_iter=20000, print_freq=1000,plot_freq=2500)"
   ]
  },
  {
   "cell_type": "markdown",
   "metadata": {},
   "source": [
    "#### variable z"
   ]
  },
  {
   "cell_type": "code",
   "execution_count": null,
   "metadata": {
    "collapsed": true
   },
   "outputs": [],
   "source": [
    "n_views=1\n",
    "data = create_true_data(n_views=n_views, lie_group='so3', show=False)\n",
    "train_vars = init_train_vars(data[0], n_views=n_views, prob=True, z_given=False)\n",
    "\n",
    "model = LieModel(data, train_vars, prob=True, kl_beta=1.)"
   ]
  },
  {
   "cell_type": "code",
   "execution_count": null,
   "metadata": {},
   "outputs": [],
   "source": [
    "model.train(n_iter=10000, print_freq=1000,plot_freq=2500)"
   ]
  },
  {
   "cell_type": "code",
   "execution_count": null,
   "metadata": {
    "collapsed": true
   },
   "outputs": [],
   "source": []
  }
 ],
 "metadata": {
  "kernelspec": {
   "display_name": "Python 3",
   "language": "python",
   "name": "python3"
  },
  "language_info": {
   "codemirror_mode": {
    "name": "ipython",
    "version": 3
   },
   "file_extension": ".py",
   "mimetype": "text/x-python",
   "name": "python",
   "nbconvert_exporter": "python",
   "pygments_lexer": "ipython3",
   "version": "3.6.1"
  }
 },
 "nbformat": 4,
 "nbformat_minor": 2
}
