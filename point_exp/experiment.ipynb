{
 "cells": [
  {
   "cell_type": "markdown",
   "metadata": {},
   "source": [
    "#### imports"
   ]
  },
  {
   "cell_type": "code",
   "execution_count": null,
   "metadata": {
    "collapsed": true
   },
   "outputs": [],
   "source": [
    "import numpy as np\n",
    "\n",
    "import torch\n",
    "import torch.nn as nn\n",
    "import torch.nn.functional as F\n",
    "from torch.autograd import Variable\n",
    "from torch.optim import Adam\n",
    "import matplotlib.pyplot as plt\n",
    "%matplotlib inline\n",
    "\n",
    "import lie_tools\n",
    "from lie_tools import rodrigues\n",
    "\n",
    "%config IPCompleter.greedy=True"
   ]
  },
  {
   "cell_type": "code",
   "execution_count": 9,
   "metadata": {},
   "outputs": [
    {
     "data": {
      "text/plain": [
       "'2018-10-01T17:00:32.640046'"
      ]
     },
     "execution_count": 9,
     "metadata": {},
     "output_type": "execute_result"
    }
   ],
   "source": [
    "import datetime\n",
    "datetime.datetime.now().isoformat()"
   ]
  },
  {
   "cell_type": "markdown",
   "metadata": {},
   "source": [
    "#### functions"
   ]
  },
  {
   "cell_type": "code",
   "execution_count": null,
   "metadata": {
    "code_folding": [
     1,
     13,
     31,
     37
    ],
    "collapsed": true
   },
   "outputs": [],
   "source": [
    "# point cloud creation and se3 creation + action\n",
    "def get_pointcloud(k):\n",
    "    x = torch.tensor(np.random.normal(0, 2, (k, 3)), dtype=torch.float32)\n",
    "    return x\n",
    "\n",
    "def get_se3(so3, r):\n",
    "    fill_shape = list(r.shape[:-2])\n",
    "    filler = torch.tensor([[0.,0.,0.,1.]]).view([1]*\\\n",
    "                            (len(fill_shape)+1)+[4]).repeat(fill_shape + [1,1])\n",
    "    se3 = torch.cat([so3, r], -1).type(torch.float32)\n",
    "    se3 = torch.cat([se3, filler], -2)\n",
    "    return se3\n",
    "\n",
    "def do_se3_action(se3, x):\n",
    "    # [tuple1, 4, 4]\n",
    "    # x = [tuple2, 3]\n",
    "    # x_hat = [tuple2, tuple1, 3]\n",
    "    \n",
    "    tuple1 = list(se3.shape[:-2])\n",
    "    tuple2 = list(x.shape[:-1])\n",
    "    \n",
    "    ones1 = [1]*len(tuple1)\n",
    "    ones2 = [1]*len(tuple2)\n",
    "    \n",
    "    se3 = se3.view(tuple1 + ones2 + [4,4])\n",
    "    x_hat = torch.cat([x, torch.ones(tuple2+[1])], -1)\n",
    "    x_hat = se3 @ x_hat.view(ones1 + tuple2 + [4,1])\n",
    "    \n",
    "    return x_hat[...,[0,1,2],0]\n",
    "\n",
    "# plotting\n",
    "def z_diff(z, z_var):\n",
    "    d_pos = ((z-z[0]) - (z_var-z_var[0]).squeeze()).abs().mean()\n",
    "    d_min = ((z-z[0]) - (-1*(z_var-z_var[0]).squeeze())).abs().mean()\n",
    "    \n",
    "    return min(d_pos, d_min)\n",
    "\n",
    "def print_progress(x, x_recon, x_label='original', \n",
    "                   x_recon_label='recon', title='', s=100):\n",
    "    fig = plt.figure(figsize=(5,5))\n",
    "    plt.scatter(x_recon.detach().numpy()[...,0], x_recon.detach().numpy()[...,1],\n",
    "                c='r', alpha=0.5, s=s, label=x_recon_label)\n",
    "    plt.scatter(x.numpy()[...,0], x.numpy()[...,1],\n",
    "                c='g', alpha=0.5, s=s, label=x_label)\n",
    "    plt.xlim(-8,8)\n",
    "    plt.ylim(-8,8);\n",
    "    plt.legend()\n",
    "    plt.title(title)"
   ]
  },
  {
   "cell_type": "markdown",
   "metadata": {},
   "source": [
    "#### create true data"
   ]
  },
  {
   "cell_type": "code",
   "execution_count": null,
   "metadata": {
    "code_folding": [
     3,
     6
    ],
    "collapsed": true
   },
   "outputs": [],
   "source": [
    "N_POINTS = 16\n",
    "N_VIEWS = 1\n",
    "\n",
    "def xy_z_decomp(xyz):\n",
    "    return xyz[...,:-1], xyz[...,-1]\n",
    "\n",
    "def create_true_data(n_points=N_POINTS, n_views=N_VIEWS,\n",
    "                     lie_group='se3', no_rot=False, show=False):\n",
    "    \n",
    "    # generate point cloud \n",
    "    cloud = get_pointcloud(n_points)\n",
    "    \n",
    "    se3_elements = []\n",
    "    rotated_clouds = []\n",
    "    for view in range(n_views):\n",
    "        v = torch.tensor(np.random.normal(0, 2, (3)))\n",
    "        v0 = torch.tensor(np.zeros((3))) + 1e-5\n",
    "\n",
    "        if lie_group == 'se3':\n",
    "            r = torch.tensor(np.random.normal(0, 1, (3,1)))\n",
    "        elif lie_group == 'so3':\n",
    "            r = torch.tensor(np.random.normal(0, 0, (3,1)))\n",
    "        else:\n",
    "            raise Exception('use either so3 or se3')\n",
    "\n",
    "        if no_rot:\n",
    "            v = v0\n",
    "\n",
    "        so3 = rodrigues(v)\n",
    "        se3 = get_se3(so3, r)\n",
    "        rotated_cloud = do_se3_action(se3, cloud)\n",
    "        \n",
    "        se3_elements.append(se3)\n",
    "        rotated_clouds.append(rotated_cloud)\n",
    "\n",
    "        if show:\n",
    "            cloud_xy, _ = xy_z_decomp(cloud)\n",
    "            rotated_cloud_xy, _ = xy_z_decomp(rotated_cloud)\n",
    "            print_progress(cloud_xy, rotated_cloud_xy,\n",
    "                           'original', ('rotated %d' % view), title='creation')\n",
    "        \n",
    "    return cloud, rotated_clouds, se3_elements\n",
    "    "
   ]
  },
  {
   "cell_type": "markdown",
   "metadata": {},
   "source": [
    "#### train data"
   ]
  },
  {
   "cell_type": "code",
   "execution_count": null,
   "metadata": {
    "code_folding": [
     0,
     6,
     13
    ],
    "collapsed": true
   },
   "outputs": [],
   "source": [
    "def init_train_vars(cloud, n_views=N_VIEWS, use_z=True, rot=True, trans=True):\n",
    "    optim_params = []\n",
    "    v_vars, r_vars = [], []\n",
    "    \n",
    "    # initialize z_axis\n",
    "    z_var = cloud[...,-1].clone().unsqueeze(-1)\n",
    "    if use_z:\n",
    "        z_var = torch.tensor(np.random.normal(0., 1.,\n",
    "                                          (list(cloud.shape[:-1]) + [1])),\n",
    "                             dtype=torch.float32,\n",
    "                             requires_grad=True)\n",
    "        optim_params.append(z_var)\n",
    "  \n",
    "    for view in range(n_views):\n",
    "        # se3 rotation\n",
    "        v_var = torch.tensor(np.zeros((3))) + 1e-5\n",
    "        if rot:\n",
    "            v_var = torch.tensor(np.random.normal(0, 1, (3)), requires_grad=True)\n",
    "            optim_params.append(v_var)\n",
    "        v_vars.append(v_var)\n",
    "        \n",
    "        # se3 translation\n",
    "        r_var = torch.tensor(np.random.normal(0, 0, (3,1)))\n",
    "        if trans:\n",
    "            r_var = torch.tensor(np.random.normal(0, 1, (3,1)), requires_grad=True)\n",
    "            optim_params.append(r_var)\n",
    "        r_vars.append(r_var)\n",
    "        \n",
    "        \n",
    "    return z_var, v_vars, r_vars, optim_params   \n",
    "        "
   ]
  },
  {
   "cell_type": "markdown",
   "metadata": {},
   "source": [
    "#### trainer"
   ]
  },
  {
   "cell_type": "code",
   "execution_count": null,
   "metadata": {
    "code_folding": [
     2
    ],
    "collapsed": true,
    "scrolled": false
   },
   "outputs": [],
   "source": [
    "N_ITER = 10000\n",
    "\n",
    "class depthEstimatorModel:\n",
    "    \"\"\"Model to estimate rotation and depth\"\"\"\n",
    "    \n",
    "    def __init__(self, data, train_vars):\n",
    "        \"\"\"\n",
    "        Args:\n",
    "            data: (cloud, rotated_clouds, train_vars)\n",
    "            train_vars: (z_vars, v_vars, r_vars, optim_params)\"\"\"\n",
    "        self.i_trained = 0\n",
    "        self.cloud, self.rotated_clouds, self.se3_elements = data\n",
    "        self.z_var, self.v_vars, self.r_vars, self.optim_params = train_vars\n",
    "        self.optimizer = Adam(self.optim_params)\n",
    "        \n",
    "    def forward(self, v, r, z, xy):\n",
    "        so3 = rodrigues(v)\n",
    "        se3 = get_se3(so3, r)\n",
    "\n",
    "        xyz = torch.cat([xy, z], -1)\n",
    "        xyz_hat = do_se3_action(se3, xyz)\n",
    "\n",
    "        return xy_z_decomp(xyz_hat)\n",
    "\n",
    "    def loss(self, xy, xy_hat):\n",
    "        # xy = (tuple2, 2)\n",
    "        # xy_hat = (tuple1, tuple2, 2)\n",
    "        l = (xy - xy_hat)**2\n",
    "        l = l.sum(-1).mean()\n",
    "\n",
    "        return l\n",
    " \n",
    "    def train(self, n_iter=N_ITER, print_freq=500, plot_freq=2000):\n",
    "        print('train model with %d points in cloud:' % (N_POINTS))\n",
    "        for i in range(n_iter):\n",
    "            self.i_trained += 1\n",
    "            self.optimizer.zero_grad()\n",
    "            l = 0\n",
    "            \n",
    "            if (i % print_freq) == 0:\n",
    "                    print('  it:%d:' % self.i_trained)\n",
    "                    \n",
    "            for j, view in enumerate(self.rotated_clouds):\n",
    "                cloud_xy, cloud_z = xy_z_decomp(self.cloud)\n",
    "                rotated_cloud_xy, _ = xy_z_decomp(view)\n",
    "                xy_hat, z_hat = self.forward(self.v_vars[j],\n",
    "                                             self.r_vars[j],\n",
    "                                             self.z_var, cloud_xy)\n",
    "                l += self.loss(rotated_cloud_xy, xy_hat)\n",
    "                \n",
    "                if (i % print_freq) == 0:\n",
    "                    print('\\t view %d \\t loss: %.6f \\t z_diff: %.3f' %\n",
    "                          (j, l, z_diff(cloud_z, self.z_var)))\n",
    "                if (i % plot_freq) == 0:\n",
    "                    print_progress(rotated_cloud_xy, xy_hat,\n",
    "                                   x_label = 'view %d' % j,\n",
    "                                   x_recon_label = 'recon',\n",
    "                                   title='iter: %d' % self.i_trained)\n",
    "            l.backward()\n",
    "            self.optimizer.step()\n",
    "        \n",
    "        self.plot_res()\n",
    "   \n",
    "    def plot_res(self):\n",
    "        print('-'*50)\n",
    "        for i in range(len(self.rotated_clouds)):\n",
    "            print('view %d' % i)\n",
    "            so3_rec = rodrigues(self.v_vars[i])\n",
    "            se3_rec = get_se3(so3_rec, self.r_vars[i])\n",
    "\n",
    "            print('\\nse3 analysis')\n",
    "            print('true')\n",
    "            print(self.se3_elements[i])\n",
    "            print('rec')\n",
    "            print(se3_rec)\n",
    "            print('diff')\n",
    "            print(self.se3_elements[i] - se3_rec)\n",
    "\n",
    "            print('\\nz analysis')\n",
    "            _, cloud_z = xy_z_decomp(self.cloud)\n",
    "            cloud_z_rel = (cloud_z - cloud_z[0])\n",
    "            z_var_rel  = (self.z_var - self.z_var[0]).squeeze()\n",
    "            print('true')\n",
    "            print(cloud_z_rel)\n",
    "            print('rec')\n",
    "            print(z_var_rel)\n",
    "            print('diff')\n",
    "            print(cloud_z_rel - z_var_rel)\n",
    "            \n",
    "            print('-'*50)"
   ]
  },
  {
   "cell_type": "markdown",
   "metadata": {},
   "source": [
    "#### Different Experiment Settings:\n",
    "- fixing z\n",
    "- no translation\n",
    "- no rotation\n",
    "- full se3"
   ]
  },
  {
   "cell_type": "markdown",
   "metadata": {},
   "source": [
    "#### fixing z"
   ]
  },
  {
   "cell_type": "code",
   "execution_count": null,
   "metadata": {
    "collapsed": true
   },
   "outputs": [],
   "source": [
    "data = create_true_data(lie_group='se3', show=False)\n",
    "train_vars = init_train_vars(data[0], use_z=False)\n",
    "\n",
    "model = depthEstimatorModel(data, train_vars)"
   ]
  },
  {
   "cell_type": "code",
   "execution_count": null,
   "metadata": {
    "collapsed": true,
    "scrolled": false
   },
   "outputs": [],
   "source": [
    "model.train(n_iter=10000, print_freq=1000,plot_freq=2500)"
   ]
  },
  {
   "cell_type": "markdown",
   "metadata": {},
   "source": [
    "#### no translation (SO3)"
   ]
  },
  {
   "cell_type": "code",
   "execution_count": null,
   "metadata": {
    "collapsed": true
   },
   "outputs": [],
   "source": [
    "data = create_true_data(lie_group='so3', show=False)\n",
    "train_vars = init_train_vars(data[0], trans=False)\n",
    "\n",
    "model = depthEstimatorModel(data, train_vars)"
   ]
  },
  {
   "cell_type": "code",
   "execution_count": null,
   "metadata": {
    "collapsed": true,
    "scrolled": false
   },
   "outputs": [],
   "source": [
    "model.train(n_iter=10000, print_freq=1000,plot_freq=2500)"
   ]
  },
  {
   "cell_type": "markdown",
   "metadata": {},
   "source": [
    "#### no rotation"
   ]
  },
  {
   "cell_type": "code",
   "execution_count": null,
   "metadata": {
    "collapsed": true
   },
   "outputs": [],
   "source": [
    "data = create_true_data(lie_group='se3', no_rot=True, show=False)\n",
    "train_vars = init_train_vars(data[0], rot=False)\n",
    "\n",
    "model = depthEstimatorModel(data, train_vars)"
   ]
  },
  {
   "cell_type": "code",
   "execution_count": null,
   "metadata": {
    "collapsed": true,
    "scrolled": false
   },
   "outputs": [],
   "source": [
    "model.train(n_iter=10000, print_freq=1000,plot_freq=2500)"
   ]
  },
  {
   "cell_type": "markdown",
   "metadata": {},
   "source": [
    "#### full SE3"
   ]
  },
  {
   "cell_type": "code",
   "execution_count": null,
   "metadata": {
    "collapsed": true
   },
   "outputs": [],
   "source": [
    "data = create_true_data(lie_group='se3', show=False)\n",
    "train_vars = init_train_vars(data[0])\n",
    "\n",
    "model = depthEstimatorModel(data, train_vars)"
   ]
  },
  {
   "cell_type": "code",
   "execution_count": null,
   "metadata": {
    "collapsed": true,
    "scrolled": false
   },
   "outputs": [],
   "source": [
    "model.train(n_iter=10000, print_freq=1000,plot_freq=2500)"
   ]
  },
  {
   "cell_type": "code",
   "execution_count": null,
   "metadata": {
    "collapsed": true
   },
   "outputs": [],
   "source": []
  }
 ],
 "metadata": {
  "kernelspec": {
   "display_name": "Python 3",
   "language": "python",
   "name": "python3"
  },
  "language_info": {
   "codemirror_mode": {
    "name": "ipython",
    "version": 3
   },
   "file_extension": ".py",
   "mimetype": "text/x-python",
   "name": "python",
   "nbconvert_exporter": "python",
   "pygments_lexer": "ipython3",
   "version": "3.6.1"
  }
 },
 "nbformat": 4,
 "nbformat_minor": 2
}
