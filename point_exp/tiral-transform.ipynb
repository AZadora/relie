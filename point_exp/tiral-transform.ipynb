{
 "cells": [
  {
   "cell_type": "code",
   "execution_count": 2,
   "metadata": {
    "collapsed": true
   },
   "outputs": [],
   "source": [
    "\n",
    "import sys\n",
    "sys.path.append(\"..\")\n",
    "\n",
    "import torch\n",
    "import torch.nn as nn\n",
    "import torch.nn.functional as F\n",
    "from torch.distributions import Normal\n",
    "from torch.utils.data import TensorDataset\n",
    "\n",
    "from relie.flow import LocalDiffeoTransformedDistribution as LDTD\n",
    "from relie.lie_distr import SO3ExpTransform, SO3Prior\n",
    "from relie.utils.data import TensorLoader, cycle\n",
    "from relie.utils.so3_tools import so3_matrix_to_eazyz, block_wigner_matrix_multiply\n",
    "from relie.utils.modules import MLP\n",
    "\n",
    "from pushed_normal import PushedNormal"
   ]
  },
  {
   "cell_type": "code",
   "execution_count": 3,
   "metadata": {
    "collapsed": true
   },
   "outputs": [],
   "source": [
    "a = PushedNormal()"
   ]
  }
 ],
 "metadata": {
  "kernelspec": {
   "display_name": "Python 3",
   "language": "python",
   "name": "python3"
  },
  "language_info": {
   "codemirror_mode": {
    "name": "ipython",
    "version": 3
   },
   "file_extension": ".py",
   "mimetype": "text/x-python",
   "name": "python",
   "nbconvert_exporter": "python",
   "pygments_lexer": "ipython3",
   "version": "3.6.1"
  }
 },
 "nbformat": 4,
 "nbformat_minor": 2
}
